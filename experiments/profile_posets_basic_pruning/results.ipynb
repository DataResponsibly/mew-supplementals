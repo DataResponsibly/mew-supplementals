{
 "cells": [
  {
   "cell_type": "markdown",
   "id": "6cd996cb-8aae-4372-ad8b-1ae244774f91",
   "metadata": {},
   "source": [
    "# MEW via refining upper and lower bounds\n",
    "\n",
    "#### Optimization approach\n",
    "1. Quickly compute the upper and lower bounds of score of each candidate in all possible worlds\n",
    "2. Delete any candidate whose upper bound is lower than another candidate's lower bound\n",
    "3. For each voter:\n",
    "    1. Compute the exact scores assigning to each candidate\n",
    "    2. Refine the upper and lower bounds with these exact scores\n",
    "    3. Delete any candidate whose upper bound is lower than another candidate's lower bound\n",
    "    4. If there is only one candidate remained\n",
    "        1. Declare this candidate to be the winner.\n",
    "        2. Ignore the rest voters.\n",
    "4. If the program didn't stop within the for loop, right now, all remaininig candidates have the same exact scores, and they are co-winners\n",
    "\n",
    "#### Baseline approach\n",
    "1. For each voter:\n",
    "    1. Compute the exact scores assigning to each candidate\n",
    "2. Declare the co-winners who have the highest score\n",
    "\n",
    "#### Approach 2\n",
    "\n",
    "1. Quickly compute the upper and lower bounds of score of each candidate in all possible worlds\n",
    "2. Delete any candidate whose upper bound is lower than another candidate's lower bound\n",
    "3. Top K optimization\n",
    "    - LB_heap (higher to lower) - order of processing of candidates\n",
    "    - UB_list (lower to higher) - order of pruning of candidates\n",
    "    - exact scores -> UB_list\n",
    " \n",
    "\n",
    "## Experiment setup\n",
    "\n",
    "- Fix #candidates=10, change #voters [10, 100, 1000, 10000]\n",
    "- Fix #voters=1000, change #candidates[5, 6, 7, 8, 9, 10]\n",
    "- Use k-approval rule, where k = [1, 2, 3, 4]"
   ]
  },
  {
   "cell_type": "code",
   "execution_count": null,
   "id": "7e8460f7-9836-4c38-bc11-b307e3a89723",
   "metadata": {},
   "outputs": [],
   "source": [
    "import pandas as pd\n",
    "\n",
    "import matplotlib.pyplot as plt\n",
    "import seaborn as sns"
   ]
  },
  {
   "cell_type": "markdown",
   "id": "60d5a863-3783-498d-8e22-7d1bf7e40710",
   "metadata": {
    "tags": []
   },
   "source": [
    "## Read data\n",
    "\n",
    "__Caveat__: the posets are generated from uniformly random rankings, i.e., all candidates have the same winning probability during profile generation."
   ]
  },
  {
   "cell_type": "code",
   "execution_count": null,
   "id": "b483eb2e-9d93-4cc5-bfae-0345e84d7b47",
   "metadata": {},
   "outputs": [],
   "source": [
    "df = pd.read_csv('experiment_output.tsv', sep='\\t', comment='#')\n",
    "df['speedup by vp'] = df['t_baseline_sec'] / df['t_vp_sec']\n",
    "df['speedup by cp'] = df['t_baseline_sec'] / df['t_cp_sec']\n",
    "df['skipped voters(%)'] = 100 * df['pruned_voters'] / df['num_voters']\n",
    "df['skipped candidates(%)'] = 100 * df['pruned_candidates'] / df['num_voters']\n",
    "df.head()"
   ]
  },
  {
   "cell_type": "markdown",
   "id": "e85763d9-4228-49bb-a71e-9023845d42b9",
   "metadata": {},
   "source": [
    "# Overall"
   ]
  },
  {
   "cell_type": "code",
   "execution_count": null,
   "id": "537b3265-977b-454c-88d2-c036e9bd9472",
   "metadata": {},
   "outputs": [],
   "source": [
    "df_vp = df[['k_approval', 'num_candidates', 'num_voters', 'phi', 'rsm_pmax', 'batch', 'speedup by vp']].copy()\n",
    "df_cp = df[['k_approval', 'num_candidates', 'num_voters', 'phi', 'rsm_pmax', 'batch', 'speedup by cp']].copy()\n",
    "df_vp.rename(columns={'speedup by vp': 'speedup'}, inplace=True)\n",
    "df_cp.rename(columns={'speedup by cp': 'speedup'}, inplace=True)\n",
    "df_vp['approach'] = 'voter pruning'\n",
    "df_cp['approach'] = 'candidate pruning'\n",
    "dfx = pd.concat([df_vp, df_cp])"
   ]
  },
  {
   "cell_type": "code",
   "execution_count": null,
   "id": "a5b5c102-e0c1-4faa-a493-38f4ef7da951",
   "metadata": {},
   "outputs": [],
   "source": [
    "plt.figure(dpi=120)\n",
    "sns.boxplot(x='k_approval', y='speedup', hue='approach', data=dfx, linewidth=1, fliersize=1)\n",
    "plt.xlabel('k (in k-approval)')\n",
    "print('Conclusion: a key speedup factor is the value of k in k-approval.')"
   ]
  },
  {
   "cell_type": "code",
   "execution_count": null,
   "id": "6079196c-29fa-4ff5-9e74-d0de441086de",
   "metadata": {},
   "outputs": [],
   "source": [
    "plt.figure(dpi=120)\n",
    "sns.histplot(df['skipped voters(%)'], bins=30);\n",
    "plt.title('Few voters are skipped');\n",
    "print('Conclusion: the dominant speedup origins from the candidates being pruned during voter enumeration.')"
   ]
  },
  {
   "cell_type": "code",
   "execution_count": null,
   "id": "8c03e376-4909-4bc6-af1e-b3fc4d86039f",
   "metadata": {},
   "outputs": [],
   "source": [
    "plt.figure(dpi=120)\n",
    "sns.histplot(df['skipped candidates(%)'], bins=30);\n",
    "plt.title('In most cases, no candidate is skipped');"
   ]
  },
  {
   "cell_type": "markdown",
   "id": "d046b069-d96b-4f5e-81f3-594d9a42b81f",
   "metadata": {},
   "source": [
    "## Subset of data\n",
    "\n",
    "Experiment setup\n",
    "\n",
    "- Fix #candidates=10, change #voters [10, 100, 1000, 10000]\n",
    "- Fix #voters=1000, change #candidates[5, 6, 7, 8, 9, 10]\n",
    "- Use k-approval rule, where k = [1, 2, 3, 4]"
   ]
  },
  {
   "cell_type": "code",
   "execution_count": null,
   "id": "74561be5-9a22-4479-9d5e-86974ee2a203",
   "metadata": {},
   "outputs": [],
   "source": [
    "dfy = dfx.query('num_candidates == 10 and k_approval == 2 and phi == 0.5')\n",
    "\n",
    "plt.figure(dpi=120)\n",
    "sns.boxplot(x='num_voters', y='speedup', hue='approach', data=dfy, linewidth=1, fliersize=1)\n",
    "plt.xlabel('#voters')\n",
    "print('Conclusion: speedup is less effective when increasing #voters.')"
   ]
  },
  {
   "cell_type": "code",
   "execution_count": null,
   "id": "9c86bb34-0a30-4597-b924-9ba7ccba59bb",
   "metadata": {},
   "outputs": [],
   "source": [
    "dfy = dfx.query('num_voters == 1000 and k_approval == 2 and phi == 0.5')\n",
    "\n",
    "plt.figure(dpi=120)\n",
    "sns.boxplot(x='num_candidates', y='speedup', hue='approach', data=dfy, linewidth=1, fliersize=1)\n",
    "plt.xlabel('#candidates')\n",
    "print('Conclusion: speedup is more effective when increasing #candidates.')"
   ]
  },
  {
   "cell_type": "code",
   "execution_count": null,
   "id": "13647030-2930-4d98-ac90-92f20ab69759",
   "metadata": {},
   "outputs": [],
   "source": [
    "dfy = dfx.query('num_candidates == 10 and num_voters == 1000 and k_approval == 2')\n",
    "\n",
    "plt.figure(dpi=120)\n",
    "sns.boxplot(x='phi', y='speedup', hue='approach', data=dfy, width=0.5, linewidth=1, fliersize=1)\n",
    "plt.xlabel('Mallows phi')\n",
    "print('Conclusion: speedup is more effective when decreasing Mallows.phi')"
   ]
  },
  {
   "cell_type": "code",
   "execution_count": null,
   "id": "9b1cbe11-47db-4070-92dc-0a718b4b9598",
   "metadata": {},
   "outputs": [],
   "source": []
  }
 ],
 "metadata": {
  "kernelspec": {
   "display_name": "Python 3 (ipykernel)",
   "language": "python",
   "name": "python3"
  },
  "language_info": {
   "codemirror_mode": {
    "name": "ipython",
    "version": 3
   },
   "file_extension": ".py",
   "mimetype": "text/x-python",
   "name": "python",
   "nbconvert_exporter": "python",
   "pygments_lexer": "ipython3",
   "version": "3.10.2"
  }
 },
 "nbformat": 4,
 "nbformat_minor": 5
}
