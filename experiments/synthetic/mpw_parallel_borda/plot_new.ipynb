{
 "cells": [
  {
   "cell_type": "code",
   "execution_count": null,
   "id": "a830d90b-10b0-4176-ac66-c895f8ac22d4",
   "metadata": {},
   "outputs": [],
   "source": [
    "import pandas as pd\n",
    "\n",
    "import matplotlib.pyplot as plt\n",
    "import seaborn as sns"
   ]
  },
  {
   "cell_type": "code",
   "execution_count": null,
   "id": "2c2df600-7385-43d1-94a0-41b03c6b5612",
   "metadata": {},
   "outputs": [],
   "source": [
    "df_raw = pd.read_csv('experiment_output_of_improved_True.tsv', sep='\\t', na_values='error')\n",
    "df_raw.replace('Plurality', 'plurality', inplace=True)\n",
    "df_raw.head(5)"
   ]
  },
  {
   "attachments": {},
   "cell_type": "markdown",
   "id": "6152cc1b-f55a-47ef-966d-cb6b1f907daa",
   "metadata": {},
   "source": [
    "## Check instances that did not finish\n",
    "\n",
    "All 10 instances of (7 candidates, 5 voters) are Out-of-memory."
   ]
  },
  {
   "cell_type": "code",
   "execution_count": null,
   "id": "352fb36d-eac8-4b0b-abed-9fbfb555f559",
   "metadata": {},
   "outputs": [],
   "source": [
    "df_raw[df_raw['mpw'].isna()]"
   ]
  },
  {
   "attachments": {},
   "cell_type": "markdown",
   "id": "c9e075fe-7d8a-496b-b1a1-1756ccd1b387",
   "metadata": {},
   "source": [
    "## Prepare dataframe for visualization"
   ]
  },
  {
   "cell_type": "code",
   "execution_count": null,
   "id": "69de4be1-aee1-4d44-a36b-7622f5fe4512",
   "metadata": {},
   "outputs": [],
   "source": [
    "df_valid = df_raw.dropna()\n",
    "df_keys = df_valid[['m', 'n', 'phi', 'pmax', 'batch', 'rule']].copy()\n",
    "df_mpw = df_keys.copy()\n",
    "df_mew = df_keys.copy()\n",
    "df_mpw['definition'] = 'parallel MPW'\n",
    "df_mew['definition'] = 'parallel MEW'\n",
    "df_mpw['winners'] = df_raw['mpw'].copy()\n",
    "df_mew['winners'] = df_raw['mew'].copy()\n",
    "df_mpw['time(s)'] = df_raw['t_mpw_s'].copy()\n",
    "df_mew['time(s)'] = df_raw['t_mew_s'].copy()\n",
    "\n",
    "df = pd.concat([df_mpw, df_mew])\n",
    "df.sample(n=5)"
   ]
  },
  {
   "cell_type": "code",
   "execution_count": null,
   "id": "ae762d5f-bf15-4edf-920a-06279726878d",
   "metadata": {},
   "outputs": [],
   "source": [
    "import matplotlib as mpl\n",
    "mpl.rcParams['mathtext.fontset'] = 'cm'\n",
    "mpl.rcParams['pdf.fonttype'] = 42\n",
    "mpl.rc('font', **{'size': 18})"
   ]
  },
  {
   "cell_type": "code",
   "execution_count": null,
   "id": "99951786-5fa3-437a-9af1-5a88923c1547",
   "metadata": {},
   "outputs": [],
   "source": [
    "savemode = True"
   ]
  },
  {
   "cell_type": "code",
   "execution_count": null,
   "id": "2a58c7bf-eee1-49a3-b6f7-b606c9ff100a",
   "metadata": {},
   "outputs": [],
   "source": [
    "dfx = df.query('n == 5 and rule == \"Borda\"')\n",
    "\n",
    "plt.figure(dpi=120)\n",
    "sns.pointplot(x='m', y='time(s)', hue='definition', data=dfx, ci=0)\n",
    "plt.yscale('log')\n",
    "plt.ylim(0.05, 150)\n",
    "plt.xlabel('#candidates')\n",
    "plt.legend(title='', ncol=1, loc=2, \n",
    "           borderpad=0.2, labelspacing=0.2, handlelength=1, \n",
    "           handletextpad=0.2, borderaxespad=0.2, columnspacing=0.5);\n",
    "plt.tight_layout(pad=0)\n",
    "if savemode:\n",
    "    plt.savefig('synthetic_mpw_borda_5_voters__time_vs_m.pdf')"
   ]
  },
  {
   "cell_type": "code",
   "execution_count": null,
   "id": "2de5c51b-497c-4572-b849-2f4966d08a64",
   "metadata": {},
   "outputs": [],
   "source": [
    "dfx = df.query('m == 5 and rule == \"Borda\"')\n",
    "\n",
    "plt.figure(dpi=120)\n",
    "sns.pointplot(x='n', y='time(s)', hue='definition', data=dfx, ci=0)\n",
    "# plt.yscale('log')\n",
    "# plt.ylim(0.0005, 100)\n",
    "plt.xlabel('#voters')\n",
    "plt.xticks(list(range(0, 16, 2)))\n",
    "plt.legend(title='', ncol=1, loc=2, \n",
    "           borderpad=0.2, labelspacing=0.2, handlelength=1, \n",
    "           handletextpad=0.2, borderaxespad=0.2, columnspacing=0.5);\n",
    "plt.tight_layout(pad=0)\n",
    "if savemode:\n",
    "    plt.savefig('synthetic_mpw_borda_5_candidates__time_vs_n.pdf')"
   ]
  },
  {
   "cell_type": "code",
   "execution_count": null,
   "id": "bbff46c6-f98f-4611-99a4-05abf685d28a",
   "metadata": {},
   "outputs": [],
   "source": []
  }
 ],
 "metadata": {
  "kernelspec": {
   "display_name": "Python 3 (ipykernel)",
   "language": "python",
   "name": "python3"
  },
  "language_info": {
   "codemirror_mode": {
    "name": "ipython",
    "version": 3
   },
   "file_extension": ".py",
   "mimetype": "text/x-python",
   "name": "python",
   "nbconvert_exporter": "python",
   "pygments_lexer": "ipython3",
   "version": "3.10.2"
  }
 },
 "nbformat": 4,
 "nbformat_minor": 5
}
