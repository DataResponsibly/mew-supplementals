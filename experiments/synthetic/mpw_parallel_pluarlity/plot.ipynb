{
 "cells": [
  {
   "cell_type": "code",
   "execution_count": null,
   "id": "b5afd5d7-3a1e-4cf6-81ea-28022189fe0c",
   "metadata": {},
   "outputs": [],
   "source": [
    "import pandas as pd\n",
    "\n",
    "import matplotlib.pyplot as plt\n",
    "import seaborn as sns"
   ]
  },
  {
   "cell_type": "code",
   "execution_count": null,
   "id": "3088a38b-a8e0-4fdf-8d0c-9053a74abc32",
   "metadata": {},
   "outputs": [],
   "source": [
    "# Read data\n",
    "df_raw = pd.read_csv('experiment_output_of_improved_True.tsv', sep='\\t', na_values='error').drop(columns=['phi', 'pmax', 'threads', 't_max_min'])\n",
    "df_raw.replace('Plurality', 'plurality', inplace=True)\n",
    "df_raw.head()"
   ]
  },
  {
   "cell_type": "code",
   "execution_count": null,
   "id": "23b88f65-94a9-4064-b9eb-b809d80db274",
   "metadata": {},
   "outputs": [],
   "source": [
    "df_unfinished = df_raw[df_raw['t_mpw_s'].isna()].sort_values(by=['m', 'n']).drop(columns=['batch', 'mew', 't_mew_s']).drop_duplicates()\n",
    "df_unfinished.head()"
   ]
  },
  {
   "cell_type": "code",
   "execution_count": null,
   "id": "dab8f9a2-6d1c-4424-992c-2fda2565b069",
   "metadata": {},
   "outputs": [],
   "source": [
    "df_finished = df_raw.dropna()\n",
    "df_finished = df_finished.groupby(['m', 'n', 'rule'], as_index=False).agg({'batch': 'count', 't_mpw_s': 'mean', 't_mew_s': 'mean'})\n",
    "df_finished = df_finished.query('batch > 5')\n",
    "df_finished.head()"
   ]
  },
  {
   "cell_type": "code",
   "execution_count": null,
   "id": "deb1daef-d99e-411a-bc5f-2fef801c2f11",
   "metadata": {},
   "outputs": [],
   "source": [
    "import matplotlib as mpl\n",
    "mpl.rcParams['mathtext.fontset'] = 'cm'\n",
    "mpl.rcParams['pdf.fonttype'] = 42\n",
    "mpl.rc('font', **{'size': 18})"
   ]
  },
  {
   "cell_type": "code",
   "execution_count": null,
   "id": "f37c5a4d-3716-4099-afd3-fd134c869a77",
   "metadata": {},
   "outputs": [],
   "source": [
    "savemode = True"
   ]
  },
  {
   "cell_type": "code",
   "execution_count": null,
   "id": "d2428b97-0813-45a0-a2e3-fd29920fc8ba",
   "metadata": {},
   "outputs": [],
   "source": [
    "df_unfinished_skyline = df_unfinished[['m', 'n']].copy()\n",
    "df_unfinished_skyline['execution'] = 'out-of-30min'\n",
    "df_finished_skyline = df_finished[['m', 'n']].copy()\n",
    "df_finished_skyline['execution'] = 'finished'\n",
    "\n",
    "df_skyline = pd.concat([df_finished_skyline, df_unfinished_skyline], ignore_index=True)\n",
    "\n",
    "plt.figure(dpi=120)\n",
    "sns.scatterplot(x='m', y='n', hue='execution', data=df_skyline)\n",
    "plt.xticks(list(range(3, 14)))\n",
    "# plt.yticks(list(range(2, 6)))\n",
    "plt.xlabel('#cand')\n",
    "plt.ylabel('#voters')\n",
    "plt.legend(title='', handletextpad=0)\n",
    "plt.title('Skyline of scalablity');"
   ]
  },
  {
   "cell_type": "code",
   "execution_count": null,
   "id": "ff3ff1b7-b5d4-4261-90e0-3d1578f9c629",
   "metadata": {},
   "outputs": [],
   "source": [
    "df_keys = df_finished[['m', 'n', 'rule']].copy()\n",
    "df_mpw = df_keys.copy()\n",
    "df_mew = df_keys.copy()\n",
    "df_mpw['definition'] = 'parallel MPW'\n",
    "df_mew['definition'] = 'parallel MEW'\n",
    "df_mpw['time(s)'] = df_finished['t_mpw_s'].copy()\n",
    "df_mew['time(s)'] = df_finished['t_mew_s'].copy()\n",
    "df_vis = pd.concat([df_mpw, df_mew])"
   ]
  },
  {
   "cell_type": "code",
   "execution_count": null,
   "id": "3e5b7a3a-343a-4b35-a7f8-5024f97b7b73",
   "metadata": {},
   "outputs": [],
   "source": [
    "dfx = df_vis.query('m == 9')\n",
    "\n",
    "plt.figure(dpi=120)\n",
    "sns.pointplot(x='n', y='time(s)', hue='definition', data=dfx, ci=0)\n",
    "plt.yscale('log')\n",
    "# plt.ylim(0.0005, 100)\n",
    "plt.xlabel('#voters')\n",
    "# plt.xticks(list(range(0, 16, 2)))\n",
    "plt.legend(title='', ncol=1, loc=2, \n",
    "           borderpad=0.2, labelspacing=0.2, handlelength=1, \n",
    "           handletextpad=0.2, borderaxespad=0.2, columnspacing=0.5);\n",
    "plt.tight_layout(pad=0)\n",
    "if savemode:\n",
    "    plt.savefig('synthetic_mpw_parallel_pluarlity_9_candidates__time_vs_n.pdf')"
   ]
  },
  {
   "cell_type": "code",
   "execution_count": null,
   "id": "4551ae3e-0a50-4605-9ccc-d0d983d6d0f7",
   "metadata": {},
   "outputs": [],
   "source": [
    "dfx = df_vis.query('n == 10')\n",
    "\n",
    "plt.figure(dpi=120)\n",
    "sns.pointplot(x='m', y='time(s)', hue='definition', data=dfx, ci=0)\n",
    "plt.yscale('log')\n",
    "# plt.ylim(0.02, 2000)\n",
    "plt.xlabel('#cand')\n",
    "# plt.xticks(list(range(0, 16, 2)))\n",
    "plt.legend(title='', ncol=1, loc=2, \n",
    "           borderpad=0.2, labelspacing=0.2, handlelength=1, \n",
    "           handletextpad=0.2, borderaxespad=0.2, columnspacing=0.5);\n",
    "plt.tight_layout(pad=0)\n",
    "if savemode:\n",
    "    plt.savefig('synthetic_mpw_parallel_pluarlity_10_voters__time_vs_m.pdf')"
   ]
  },
  {
   "cell_type": "code",
   "execution_count": null,
   "id": "58fb643a-6b1a-4ead-9d05-48a11a8ad456",
   "metadata": {},
   "outputs": [],
   "source": []
  },
  {
   "cell_type": "code",
   "execution_count": null,
   "id": "c74a7253-add5-45b4-bc43-6e1d4ffdc5ff",
   "metadata": {},
   "outputs": [],
   "source": []
  }
 ],
 "metadata": {
  "kernelspec": {
   "display_name": "Python 3 (ipykernel)",
   "language": "python",
   "name": "python3"
  },
  "language_info": {
   "codemirror_mode": {
    "name": "ipython",
    "version": 3
   },
   "file_extension": ".py",
   "mimetype": "text/x-python",
   "name": "python",
   "nbconvert_exporter": "python",
   "pygments_lexer": "ipython3",
   "version": "3.10.2"
  }
 },
 "nbformat": 4,
 "nbformat_minor": 5
}
