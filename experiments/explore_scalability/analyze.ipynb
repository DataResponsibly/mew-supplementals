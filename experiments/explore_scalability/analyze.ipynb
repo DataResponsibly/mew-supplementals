{
 "cells": [
  {
   "cell_type": "code",
   "execution_count": null,
   "id": "2b0e3e33-579c-41b5-bf4c-4adc7b1cb4e9",
   "metadata": {},
   "outputs": [],
   "source": [
    "import pandas as pd\n",
    "import matplotlib.pyplot as plt\n",
    "import seaborn as sns"
   ]
  },
  {
   "cell_type": "code",
   "execution_count": null,
   "id": "f6d7482d-7830-4f03-a019-486b146b3163",
   "metadata": {},
   "outputs": [],
   "source": [
    "df = pd.read_csv('experiment_output.tsv', sep='\\t')\n",
    "df.sample(n=5)"
   ]
  },
  {
   "cell_type": "code",
   "execution_count": null,
   "id": "862079a5-3e36-4bb6-9318-fab3bbd953ed",
   "metadata": {},
   "outputs": [],
   "source": [
    "plt.figure(dpi=120)\n",
    "sns.boxplot(x='m', y='time_s', hue='k_approval', data=df.query('rsm_pmax == 0.1'), linewidth=1, fliersize=1)\n",
    "plt.yscale('log')\n",
    "plt.ylabel('time(s)')\n",
    "plt.title('Exact solver runtime, for ONE item, under k-approval rule');"
   ]
  },
  {
   "cell_type": "code",
   "execution_count": null,
   "id": "78ea5757-3a72-4d52-a6b6-b2706031eef3",
   "metadata": {},
   "outputs": [],
   "source": [
    "plt.figure(dpi=120)\n",
    "sns.boxplot(x='rsm_pmax', y='cover_width', hue='m', data=df.query('k_approval == 5'), linewidth=1, fliersize=1);\n",
    "plt.title('RSM-pmax VS cover-width: clear trend');"
   ]
  },
  {
   "cell_type": "code",
   "execution_count": null,
   "id": "016ef16a-96d6-4c80-94e1-5b9224beeac8",
   "metadata": {},
   "outputs": [],
   "source": [
    "plt.figure(dpi=120)\n",
    "sns.boxplot(x='rsm_pmax', y='time_s', hue='m', data=df.query('k_approval == 5'), linewidth=1, fliersize=1);\n",
    "plt.yscale('log')\n",
    "plt.ylabel('time(s)')\n",
    "plt.title('Runtime VS RSM-pmax: no clear trend');"
   ]
  },
  {
   "cell_type": "code",
   "execution_count": null,
   "id": "95e261c3",
   "metadata": {},
   "outputs": [],
   "source": []
  }
 ],
 "metadata": {
  "kernelspec": {
   "display_name": "Python 3 (ipykernel)",
   "language": "python",
   "name": "python3"
  },
  "language_info": {
   "codemirror_mode": {
    "name": "ipython",
    "version": 3
   },
   "file_extension": ".py",
   "mimetype": "text/x-python",
   "name": "python",
   "nbconvert_exporter": "python",
   "pygments_lexer": "ipython3",
   "version": "3.10.2"
  }
 },
 "nbformat": 4,
 "nbformat_minor": 5
}